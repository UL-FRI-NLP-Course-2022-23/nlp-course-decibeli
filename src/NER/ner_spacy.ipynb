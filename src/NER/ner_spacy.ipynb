{
 "cells": [
  {
   "cell_type": "code",
   "execution_count": 1,
   "metadata": {},
   "outputs": [],
   "source": [
    "# pip install -U spacy\n",
    "# python -m spacy download en_core_web_sm\n",
    "import spacy\n",
    "from spacy import displacy\n",
    "from collections import Counter\n",
    "import en_core_web_sm\n",
    "from nltk.tokenize import sent_tokenize\n",
    "from collections import defaultdict"
   ]
  },
  {
   "cell_type": "code",
   "execution_count": 2,
   "metadata": {},
   "outputs": [],
   "source": [
    "nlp = en_core_web_sm.load()"
   ]
  },
  {
   "cell_type": "code",
   "execution_count": 3,
   "metadata": {},
   "outputs": [],
   "source": [
    "def ner_spacy(text):\n",
    "    # nlp = en_core_web_sm.load()\n",
    "    def def_value():\n",
    "        return 0\n",
    "    \n",
    "    sentences = sent_tokenize(text)\n",
    "    names_dict = defaultdict(def_value)\n",
    "\n",
    "    for s in sentences:\n",
    "        sentence = nlp(s)\n",
    "        for entity in sentence.ents:\n",
    "            if entity.label_ == 'PERSON':\n",
    "                names_dict[entity.text] += 1\n",
    "                \n",
    "    for key in names_dict.keys():\n",
    "        print(key + ': ' + str(names_dict[key]))\n",
    "    \n",
    "    return names_dict"
   ]
  },
  {
   "cell_type": "code",
   "execution_count": 4,
   "metadata": {},
   "outputs": [
    {
     "name": "stdout",
     "output_type": "stream",
     "text": [
      "john: 1\n",
      "luka: 1\n",
      "john cena: 1\n"
     ]
    },
    {
     "data": {
      "text/plain": [
       "defaultdict(<function __main__.ner_spacy.<locals>.def_value()>,\n",
       "            {'john': 1, 'luka': 1, 'john cena': 1})"
      ]
     },
     "execution_count": 4,
     "metadata": {},
     "output_type": "execute_result"
    }
   ],
   "source": [
    "text = 'john is talking to me. luka is talking to him. Jon is tall. The King Of The North is here. This is john cena.'\n",
    "ner_spacy(text)"
   ]
  }
 ],
 "metadata": {
  "kernelspec": {
   "display_name": "base",
   "language": "python",
   "name": "python3"
  },
  "language_info": {
   "codemirror_mode": {
    "name": "ipython",
    "version": 3
   },
   "file_extension": ".py",
   "mimetype": "text/x-python",
   "name": "python",
   "nbconvert_exporter": "python",
   "pygments_lexer": "ipython3",
   "version": "3.9.13"
  },
  "orig_nbformat": 4
 },
 "nbformat": 4,
 "nbformat_minor": 2
}
