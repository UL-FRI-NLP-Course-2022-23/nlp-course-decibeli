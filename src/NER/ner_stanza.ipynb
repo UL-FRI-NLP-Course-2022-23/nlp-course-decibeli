{
 "cells": [
  {
   "cell_type": "code",
   "execution_count": 2,
   "metadata": {},
   "outputs": [
    {
     "data": {
      "application/vnd.jupyter.widget-view+json": {
       "model_id": "36e71fe21266446aac840c6e067d02d6",
       "version_major": 2,
       "version_minor": 0
      },
      "text/plain": [
       "Downloading https://raw.githubusercontent.com/stanfordnlp/stanza-resources/main/resources_1.5.0.json:   0%|   …"
      ]
     },
     "metadata": {},
     "output_type": "display_data"
    },
    {
     "name": "stderr",
     "output_type": "stream",
     "text": [
      "2023-04-12 17:14:02 INFO: Downloading default packages for language: en (English) ...\n",
      "2023-04-12 17:14:05 INFO: File exists: /home/tadson10/stanza_resources/en/default.zip\n",
      "2023-04-12 17:14:15 INFO: Finished downloading models and saved to /home/tadson10/stanza_resources.\n"
     ]
    }
   ],
   "source": [
    "# pip install stanza\n",
    "from nltk.tokenize import sent_tokenize\n",
    "from collections import defaultdict\n",
    "import stanza\n",
    "stanza.download('en')"
   ]
  },
  {
   "cell_type": "code",
   "execution_count": 15,
   "metadata": {},
   "outputs": [
    {
     "name": "stdout",
     "output_type": "stream",
     "text": [
      "token: Barack\tner: B-PERSON\n",
      "token: Obama\tner: E-PERSON\n",
      "token: was\tner: O\n",
      "token: born\tner: O\n",
      "token: in\tner: O\n",
      "token: Hawaii\tner: S-GPE\n",
      "token: .\tner: O\n",
      "token: He\tner: O\n",
      "token: was\tner: O\n",
      "token: elected\tner: O\n",
      "token: president\tner: O\n",
      "token: in\tner: O\n",
      "token: 2008\tner: S-DATE\n",
      "token: .\tner: O\n"
     ]
    }
   ],
   "source": [
    "text = 'Barack Obama was born in Hawaii. He was elected president in 2008.'\n",
    "doc = nlp(text)\n",
    "doc.sentences[0].print_dependencies()\n",
    "# print(doc.sentences[0].tokens)\n",
    "print(*[f'token: {token.text}\\tner: {token.ner}' for sent in doc.sentences for token in sent.tokens], sep='\\n')"
   ]
  },
  {
   "cell_type": "code",
   "execution_count": 3,
   "metadata": {},
   "outputs": [
    {
     "name": "stderr",
     "output_type": "stream",
     "text": [
      "2023-04-12 17:14:21 INFO: Checking for updates to resources.json in case models have been updated.  Note: this behavior can be turned off with download_method=None or download_method=DownloadMethod.REUSE_RESOURCES\n"
     ]
    },
    {
     "data": {
      "application/vnd.jupyter.widget-view+json": {
       "model_id": "b5fd29bc816546158c5db888b84d19ca",
       "version_major": 2,
       "version_minor": 0
      },
      "text/plain": [
       "Downloading https://raw.githubusercontent.com/stanfordnlp/stanza-resources/main/resources_1.5.0.json:   0%|   …"
      ]
     },
     "metadata": {},
     "output_type": "display_data"
    },
    {
     "name": "stderr",
     "output_type": "stream",
     "text": [
      "2023-04-12 17:14:23 INFO: Loading these models for language: en (English):\n",
      "=========================\n",
      "| Processor | Package   |\n",
      "-------------------------\n",
      "| tokenize  | combined  |\n",
      "| ner       | ontonotes |\n",
      "=========================\n",
      "\n",
      "2023-04-12 17:14:23 INFO: Using device: cuda\n",
      "2023-04-12 17:14:23 INFO: Loading: tokenize\n",
      "2023-04-12 17:14:32 INFO: Loading: ner\n",
      "2023-04-12 17:14:34 INFO: Done loading processors!\n"
     ]
    }
   ],
   "source": [
    "nlp = stanza.Pipeline('en', processors='tokenize,ner')\n",
    "\n",
    "def ner_stanza(text):\n",
    "    def def_value():\n",
    "        return 0\n",
    "    \n",
    "    sentences = sent_tokenize(text)\n",
    "    names_dict = defaultdict(def_value)\n",
    "\n",
    "    for sentence in sentences:\n",
    "        doc = nlp(sentence)\n",
    "        # print(doc.sentences)\n",
    "        for sent in doc.sentences:\n",
    "            for ent in sent.ents:\n",
    "                if ent.type == 'PERSON':\n",
    "                    print(ent.text, ent.type)\n",
    "                    names_dict[ent.text] += 1\n",
    "                \n",
    "    for key in names_dict.keys():\n",
    "        print(key + ': ' + str(names_dict[key]))\n",
    "    \n",
    "    return names_dict"
   ]
  },
  {
   "cell_type": "code",
   "execution_count": 4,
   "metadata": {},
   "outputs": [
    {
     "name": "stdout",
     "output_type": "stream",
     "text": [
      "Barrack obama PERSON\n",
      "Barrack obama: 1\n"
     ]
    },
    {
     "data": {
      "text/plain": [
       "defaultdict(<function __main__.ner_stanza.<locals>.def_value()>,\n",
       "            {'Barrack obama': 1})"
      ]
     },
     "execution_count": 4,
     "metadata": {},
     "output_type": "execute_result"
    },
    {
     "ename": "",
     "evalue": "",
     "output_type": "error",
     "traceback": [
      "\u001b[1;31mThe Kernel crashed while executing code in the the current cell or a previous cell. Please review the code in the cell(s) to identify a possible cause of the failure. Click <a href='https://aka.ms/vscodeJupyterKernelCrash'>here</a> for more info. View Jupyter <a href='command:jupyter.viewOutput'>log</a> for further details."
     ]
    }
   ],
   "source": [
    "text = 'Barrack obama was born in Hawaii. He was elected president in 2008.'\n",
    "ner_stanza(text)"
   ]
  }
 ],
 "metadata": {
  "kernelspec": {
   "display_name": "base",
   "language": "python",
   "name": "python3"
  },
  "language_info": {
   "codemirror_mode": {
    "name": "ipython",
    "version": 3
   },
   "file_extension": ".py",
   "mimetype": "text/x-python",
   "name": "python",
   "nbconvert_exporter": "python",
   "pygments_lexer": "ipython3",
   "version": "3.9.13"
  },
  "orig_nbformat": 4
 },
 "nbformat": 4,
 "nbformat_minor": 2
}
